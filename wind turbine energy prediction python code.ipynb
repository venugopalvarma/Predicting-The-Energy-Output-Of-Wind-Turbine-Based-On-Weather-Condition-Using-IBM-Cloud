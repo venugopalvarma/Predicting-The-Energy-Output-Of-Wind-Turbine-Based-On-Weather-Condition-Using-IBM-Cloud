{
 "cells": [
  {
   "cell_type": "code",
   "execution_count": 4,
   "id": "f286d33d",
   "metadata": {},
   "outputs": [],
   "source": [
    "import numpy as np \n",
    "import pandas as pd\n",
    "import seaborn as sns\n",
    "import matplotlib.pyplot as plt\n",
    "import joblib"
   ]
  },
  {
   "cell_type": "code",
   "execution_count": 5,
   "id": "609b16ee",
   "metadata": {},
   "outputs": [
    {
     "ename": "ModuleNotFoundError",
     "evalue": "No module named 'botocore'",
     "output_type": "error",
     "traceback": [
      "\u001b[1;31m---------------------------------------------------------------------------\u001b[0m",
      "\u001b[1;31mModuleNotFoundError\u001b[0m                       Traceback (most recent call last)",
      "\u001b[1;32m<ipython-input-5-2060899157a6>\u001b[0m in \u001b[0;36m<module>\u001b[1;34m\u001b[0m\n\u001b[0;32m      2\u001b[0m \u001b[1;32mimport\u001b[0m \u001b[0mos\u001b[0m\u001b[1;33m,\u001b[0m \u001b[0mtypes\u001b[0m\u001b[1;33m\u001b[0m\u001b[1;33m\u001b[0m\u001b[0m\n\u001b[0;32m      3\u001b[0m \u001b[1;32mimport\u001b[0m \u001b[0mpandas\u001b[0m \u001b[1;32mas\u001b[0m \u001b[0mpd\u001b[0m\u001b[1;33m\u001b[0m\u001b[1;33m\u001b[0m\u001b[0m\n\u001b[1;32m----> 4\u001b[1;33m \u001b[1;32mfrom\u001b[0m \u001b[0mbotocore\u001b[0m\u001b[1;33m.\u001b[0m\u001b[0mclient\u001b[0m \u001b[1;32mimport\u001b[0m \u001b[0mConfig\u001b[0m\u001b[1;33m\u001b[0m\u001b[1;33m\u001b[0m\u001b[0m\n\u001b[0m\u001b[0;32m      5\u001b[0m \u001b[1;32mimport\u001b[0m \u001b[0mibm_boto3\u001b[0m\u001b[1;33m\u001b[0m\u001b[1;33m\u001b[0m\u001b[0m\n\u001b[0;32m      6\u001b[0m \u001b[1;33m\u001b[0m\u001b[0m\n",
      "\u001b[1;31mModuleNotFoundError\u001b[0m: No module named 'botocore'"
     ]
    }
   ],
   "source": [
    "#\n",
    "import os, types\n",
    "import pandas as pd\n",
    "from botocore.client import Config\n",
    "import ibm_boto3\n",
    "\n",
    "def __iter__(self): return 0\n",
    "\n",
    "# @hidden_cell\n",
    "# The following code accesses a file in your IBM Cloud Object Storage. It includes your credentials.\n",
    "# You might want to remove those credentials before you share the notebook.\n",
    "\n",
    "if os.environ.get('RUNTIME_ENV_LOCATION_TYPE') == 'external':\n",
    "    endpoint_85d12d4f65ee47788c560ea38d005220 = 'https://s3.us.cloud-object-storage.appdomain.cloud'\n",
    "else:\n",
    "    endpoint_85d12d4f65ee47788c560ea38d005220 = 'https://s3.private.us.cloud-object-storage.appdomain.cloud'\n",
    "\n",
    "client_85d12d4f65ee47788c560ea38d005220 = ibm_boto3.client(service_name='s3',\n",
    "    ibm_api_key_id='u761p0twCVQN2UjDC-y8vqA7YrR8RemGUR0Z73DaeC7a',\n",
    "    ibm_auth_endpoint=\"https://iam.cloud.ibm.com/oidc/token\",\n",
    "    config=Config(signature_version='oauth'),\n",
    "    endpoint_url=endpoint_85d12d4f65ee47788c560ea38d005220)\n",
    "\n",
    "body = client_85d12d4f65ee47788c560ea38d005220.get_object(Bucket='predictingtheenergyoutputofwindtu-donotdelete-pr-xjrhxpjy5fzsti',Key='T1.csv')['Body']\n",
    "# add missing __iter__ method, so pandas accepts body as file-like object\n",
    "if not hasattr(body, \"__iter__\"): body.__iter__ = types.MethodType( __iter__, body )\n",
    "\n",
    "dataset= pd.read_csv(body)\n",
    "dataset.head()\n",
    "#df = pd.read_csv(\"C:/Users/DELL/Desktop/MINI PROJECT/CSE-008/MINI PROJECT/T1.csv\")"
   ]
  },
  {
   "cell_type": "code",
   "execution_count": null,
   "id": "e8bcd159",
   "metadata": {},
   "outputs": [],
   "source": [
    "#"
   ]
  },
  {
   "cell_type": "code",
   "execution_count": null,
   "id": "9deb67de",
   "metadata": {},
   "outputs": [],
   "source": [
    "dataset.rename(columns={'Date/Time':'Time',\n",
    "                   'LV ActivePower (kW)':'ActivePower(kW)',\n",
    "                   \"Wind Speed (m/s)\":\"WindSpeed(m/s)\",\n",
    "                   \"Wind Direction (°)\":\"Wind_Direction\"},\n",
    "                    inplace=True)"
   ]
  },
  {
   "cell_type": "code",
   "execution_count": null,
   "id": "ec787dc9",
   "metadata": {},
   "outputs": [],
   "source": [
    "sns.pairplot(dataset)"
   ]
  },
  {
   "cell_type": "code",
   "execution_count": null,
   "id": "b86cb7db",
   "metadata": {},
   "outputs": [],
   "source": [
    "corr = dataset.corr()\n",
    "plt.figure(figsize=(10, 8))"
   ]
  },
  {
   "cell_type": "code",
   "execution_count": null,
   "id": "22dcd130",
   "metadata": {},
   "outputs": [],
   "source": [
    "ax = sns.heatmap(corr, vmin = -1, vmax = 1, annot = True)\n",
    "bottom, top = ax.get_ylim()\n",
    "ax.set_ylim(bottom + 0.5, top - 0.5)\n",
    "plt.show()\n",
    "corr"
   ]
  },
  {
   "cell_type": "code",
   "execution_count": null,
   "id": "e82ce27b",
   "metadata": {},
   "outputs": [],
   "source": [
    "'''\n",
    "The heat map clearly tells us that there's no realtion between wind direction and \n",
    "the Power generated but Wind speed, Theoritical power and Actual power generated \n",
    "have a very positive correlation\n",
    "'''"
   ]
  },
  {
   "cell_type": "code",
   "execution_count": null,
   "id": "2f28394a",
   "metadata": {},
   "outputs": [],
   "source": [
    "#df.drop(['Wind_Direction'],axis=1,inplace = True)\n",
    "dataset[\"Time\"] = pd.to_datetime(dataset[\"Time\"], format = \"%d %m %Y %H:%M\", errors = \"coerce\")\n",
    "dataset"
   ]
  },
  {
   "cell_type": "code",
   "execution_count": null,
   "id": "9b290c97",
   "metadata": {},
   "outputs": [],
   "source": [
    "y = dataset['ActivePower(kW)'] #'Theoretical_Power_Curve (KWh)'\n",
    "X = dataset[['Theoretical_Power_Curve (KWh)','WindSpeed(m/s)']]#'ActivePower(kW)'"
   ]
  },
  {
   "cell_type": "code",
   "execution_count": null,
   "id": "0ee9a1f5",
   "metadata": {},
   "outputs": [],
   "source": [
    "from sklearn.model_selection import train_test_split\n",
    "train_X, val_X, train_y, val_y = train_test_split(X, y,random_state = 0)\n"
   ]
  },
  {
   "cell_type": "code",
   "execution_count": null,
   "id": "5aeefd6f",
   "metadata": {},
   "outputs": [],
   "source": [
    "from sklearn.ensemble import RandomForestRegressor\n",
    "from sklearn.metrics import mean_absolute_error,r2_score"
   ]
  },
  {
   "cell_type": "code",
   "execution_count": null,
   "id": "1d103d0c",
   "metadata": {},
   "outputs": [],
   "source": [
    "forest_model = RandomForestRegressor(max_leaf_nodes =500, random_state=1)\n",
    "forest_model.fit(train_X, train_y)"
   ]
  },
  {
   "cell_type": "code",
   "execution_count": null,
   "id": "267b959a",
   "metadata": {},
   "outputs": [],
   "source": [
    "power_preds = forest_model.predict(val_X)\n",
    "print(mean_absolute_error(val_y, power_preds))\n",
    "print(r2_score(val_y,power_preds))\n",
    "joblib.dump(forest_model, \"power_prediction.sav\")"
   ]
  },
  {
   "cell_type": "code",
   "execution_count": null,
   "id": "12830f97",
   "metadata": {},
   "outputs": [],
   "source": [
    "!pip install ibm_watson_machine_learning\n",
    "!pip install APIClient"
   ]
  },
  {
   "cell_type": "code",
   "execution_count": null,
   "id": "hearing-neighbor",
   "metadata": {},
   "outputs": [],
   "source": [
    "from ibm_watson_machine_learning import APIClient\n",
    "\n",
    "wml_credentials = {\n",
    "                     \"url\":\"https://us-south.ml.cloud.ibm.com\",\n",
    "                     \"apikey\":\"-F0oHNJ9jo9hYnF5fznLzlYSp8TLCaUgnESEjYJPvtTL\"\n",
    "}\n",
    "client=APIClient(wml_credentials)"
   ]
  },
  {
   "cell_type": "code",
   "execution_count": null,
   "id": "young-birthday",
   "metadata": {},
   "outputs": [],
   "source": [
    "def guid_from_space_name(client, space_name):\n",
    "    space = client.spaces.get_details()\n",
    "    #print(space)\n",
    "    return(next(item for item in space['resources'] if item['entity']['name'] == space_name )['metadata']['id'])"
   ]
  },
  {
   "cell_type": "code",
   "execution_count": null,
   "id": "eligible-objective",
   "metadata": {},
   "outputs": [],
   "source": [
    "client=APIClient(wml_credentials)"
   ]
  },
  {
   "cell_type": "code",
   "execution_count": null,
   "id": "failing-guyana",
   "metadata": {},
   "outputs": [],
   "source": [
    "space_uid = guid_from_space_name(client, 'models')\n",
    "print('space UID =' + space_uid)"
   ]
  },
  {
   "cell_type": "code",
   "execution_count": null,
   "id": "invalid-founder",
   "metadata": {},
   "outputs": [],
   "source": [
    "client.set.default_space(space_uid)"
   ]
  },
  {
   "cell_type": "code",
   "execution_count": null,
   "id": "electrical-clear",
   "metadata": {},
   "outputs": [],
   "source": [
    "client.software_specifications.list()"
   ]
  },
  {
   "cell_type": "code",
   "execution_count": null,
   "id": "prerequisite-chaos",
   "metadata": {},
   "outputs": [],
   "source": [
    "software_spec_uid = client.software_specifications.get_uid_by_name(\"default_py3.7\")\n",
    "software_spec_uid"
   ]
  },
  {
   "cell_type": "code",
   "execution_count": null,
   "id": "other-webcam",
   "metadata": {},
   "outputs": [],
   "source": [
    "model_details = client.repository.store_model(model=forest_model,meta_props={\n",
    "client.repository.ModelMetaNames.NAME:\"churn_modeling\",\n",
    "client.repository.ModelMetaNames.TYPE:\"scikit-learn_0.23\",\n",
    "client.repository.ModelMetaNames.SOFTWARE_SPEC_UID:software_spec_uid })\n",
    "model_id = client.repository.get_model_uid(model_details)"
   ]
  },
  {
   "cell_type": "code",
   "execution_count": null,
   "id": "professional-mills",
   "metadata": {},
   "outputs": [],
   "source": [
    "model_id "
   ]
  },
  {
   "cell_type": "code",
   "execution_count": null,
   "id": "b1f9a8e1",
   "metadata": {},
   "outputs": [],
   "source": []
  }
 ],
 "metadata": {
  "kernelspec": {
   "display_name": "Python 3",
   "language": "python",
   "name": "python3"
  },
  "language_info": {
   "codemirror_mode": {
    "name": "ipython",
    "version": 3
   },
   "file_extension": ".py",
   "mimetype": "text/x-python",
   "name": "python",
   "nbconvert_exporter": "python",
   "pygments_lexer": "ipython3",
   "version": "3.8.8"
  }
 },
 "nbformat": 4,
 "nbformat_minor": 5
}
