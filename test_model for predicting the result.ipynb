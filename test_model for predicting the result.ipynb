{
 "cells": [
  {
   "cell_type": "code",
   "execution_count": 1,
   "id": "df4ece54",
   "metadata": {},
   "outputs": [],
   "source": [
    "import numpy as np \n",
    "import pandas as pd \n",
    "import joblib"
   ]
  },
  {
   "cell_type": "code",
   "execution_count": 2,
   "id": "07a5939b",
   "metadata": {},
   "outputs": [],
   "source": [
    "loaded_model = joblib.load('power_prediction.sav')"
   ]
  },
  {
   "cell_type": "code",
   "execution_count": 3,
   "id": "90c509a7",
   "metadata": {},
   "outputs": [
    {
     "name": "stdout",
     "output_type": "stream",
     "text": [
      "348.19165981990403 KWh\n"
     ]
    }
   ],
   "source": [
    "#X = [['Theoretical_Power_Curve (KWh)','WindSpeed(m/s)']]\n",
    "print(loaded_model.predict([[416.328907824861,5.31133604049682]])[0],\"KWh\")\n",
    "\n",
    "#predicted value is ['ActivePower(kW)']"
   ]
  },
  {
   "cell_type": "code",
   "execution_count": null,
   "id": "8ab0e617",
   "metadata": {},
   "outputs": [],
   "source": []
  }
 ],
 "metadata": {
  "kernelspec": {
   "display_name": "Python 3",
   "language": "python",
   "name": "python3"
  },
  "language_info": {
   "codemirror_mode": {
    "name": "ipython",
    "version": 3
   },
   "file_extension": ".py",
   "mimetype": "text/x-python",
   "name": "python",
   "nbconvert_exporter": "python",
   "pygments_lexer": "ipython3",
   "version": "3.8.8"
  }
 },
 "nbformat": 4,
 "nbformat_minor": 5
}
